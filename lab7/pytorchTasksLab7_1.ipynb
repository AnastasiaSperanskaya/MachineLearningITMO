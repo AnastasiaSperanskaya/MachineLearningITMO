{
  "nbformat": 4,
  "nbformat_minor": 0,
  "metadata": {
    "colab": {
      "name": "pytorchTasksLab7_1",
      "provenance": [],
      "collapsed_sections": [],
      "include_colab_link": true
    },
    "kernelspec": {
      "display_name": "Python 3",
      "language": "python",
      "name": "python3"
    },
    "language_info": {
      "codemirror_mode": {
        "name": "ipython",
        "version": 3
      },
      "file_extension": ".py",
      "mimetype": "text/x-python",
      "name": "python",
      "nbconvert_exporter": "python",
      "pygments_lexer": "ipython3",
      "version": "3.6.5"
    },
    "accelerator": "GPU"
  },
  "cells": [
    {
      "cell_type": "markdown",
      "metadata": {
        "id": "view-in-github",
        "colab_type": "text"
      },
      "source": [
        "<a href=\"https://colab.research.google.com/github/AnastasiaSperanskaya/MachineLearningITMO/blob/main/lab7/pytorchTasksLab7_1.ipynb\" target=\"_parent\"><img src=\"https://colab.research.google.com/assets/colab-badge.svg\" alt=\"Open In Colab\"/></a>"
      ]
    },
    {
      "cell_type": "markdown",
      "metadata": {
        "id": "vcnGdgw_YJ8u"
      },
      "source": [
        "# PyTorch. Основы: синтаксис, torch.cuda и torch.autograd\n",
        "\n",
        "## Задание 7.1"
      ]
    },
    {
      "cell_type": "code",
      "metadata": {
        "id": "RtyozNmmYJ89"
      },
      "source": [
        "import torch\n",
        "import matplotlib.pyplot as plt"
      ],
      "execution_count": null,
      "outputs": []
    },
    {
      "cell_type": "markdown",
      "metadata": {
        "id": "ny4-Qi2wYJ-6"
      },
      "source": [
        "### Задача 1"
      ]
    },
    {
      "cell_type": "markdown",
      "metadata": {
        "id": "IWxlFq0bYJ-_"
      },
      "source": [
        "1). Создайте два вещественных тензора: `a` размером (3, 4) и `b` размером (12,)   \n",
        "2). Создайте тензор `c`, являющийся тензором `b`, но размера (2, 2, 3)  \n",
        "3). Выведите первый столбец матрицы `a` с помощью индексации"
      ]
    },
    {
      "cell_type": "code",
      "metadata": {
        "id": "3oxZuk3yYJ_A",
        "colab": {
          "base_uri": "https://localhost:8080/"
        },
        "outputId": "928151b5-dcc3-4e18-a3a8-6178ccc10b7f"
      },
      "source": [
        "a = torch.rand(3, 4, dtype = torch.float)\n",
        "print(a)"
      ],
      "execution_count": null,
      "outputs": [
        {
          "output_type": "stream",
          "text": [
            "tensor([[0.2206, 0.4727, 0.6493, 0.8871],\n",
            "        [0.4490, 0.2916, 0.2741, 0.4111],\n",
            "        [0.2360, 0.4330, 0.3567, 0.3122]])\n"
          ],
          "name": "stdout"
        }
      ]
    },
    {
      "cell_type": "code",
      "metadata": {
        "colab": {
          "base_uri": "https://localhost:8080/"
        },
        "id": "udR3qa1TRwVu",
        "outputId": "35e7d5c5-ecf6-45ed-968b-b0925bce6bb4"
      },
      "source": [
        "b = torch.rand(12, dtype = torch.float)\n",
        "print(b)"
      ],
      "execution_count": null,
      "outputs": [
        {
          "output_type": "stream",
          "text": [
            "tensor([0.1694, 0.5607, 0.4505, 0.1058, 0.3924, 0.5561, 0.0280, 0.0730, 0.2531,\n",
            "        0.7916, 0.9131, 0.2438])\n"
          ],
          "name": "stdout"
        }
      ]
    },
    {
      "cell_type": "code",
      "metadata": {
        "colab": {
          "base_uri": "https://localhost:8080/"
        },
        "id": "chmeIV-QR2Nu",
        "outputId": "c0c32f11-5bf0-416e-d5fc-f9c4263ef0fe"
      },
      "source": [
        "c = b.reshape(2, 2, 3)\n",
        "print(c)"
      ],
      "execution_count": null,
      "outputs": [
        {
          "output_type": "stream",
          "text": [
            "tensor([[[0.1694, 0.5607, 0.4505],\n",
            "         [0.1058, 0.3924, 0.5561]],\n",
            "\n",
            "        [[0.0280, 0.0730, 0.2531],\n",
            "         [0.7916, 0.9131, 0.2438]]])\n"
          ],
          "name": "stdout"
        }
      ]
    },
    {
      "cell_type": "code",
      "metadata": {
        "colab": {
          "base_uri": "https://localhost:8080/"
        },
        "id": "QhNdDYnESJLe",
        "outputId": "ad95cc8e-295e-49e4-ab2b-ae4754594e39"
      },
      "source": [
        "print(a[:,0])"
      ],
      "execution_count": null,
      "outputs": [
        {
          "output_type": "stream",
          "text": [
            "tensor([0.2206, 0.4490, 0.2360])\n"
          ],
          "name": "stdout"
        }
      ]
    },
    {
      "cell_type": "markdown",
      "metadata": {
        "id": "D2IP_FrKYKAA"
      },
      "source": [
        "### Задача 2"
      ]
    },
    {
      "cell_type": "markdown",
      "metadata": {
        "id": "tBZFbSYQYKAA"
      },
      "source": [
        "1). Создайте два вещественных тензора: `a` размером (5, 2) и `b` размером (1,10)   \n",
        "2). Создайте тензор `c`, являющийся тензором `b`, но размера (5, 2)  \n",
        "3). Произведите все арифметические операции с тензорами `a` и `c`"
      ]
    },
    {
      "cell_type": "code",
      "metadata": {
        "id": "hzs2bH3GYKAB",
        "colab": {
          "base_uri": "https://localhost:8080/"
        },
        "outputId": "464ae466-6e99-4f84-f121-c56d2a179b1e"
      },
      "source": [
        "a = torch.rand(5, 2, dtype = torch.float)\n",
        "print(a)"
      ],
      "execution_count": null,
      "outputs": [
        {
          "output_type": "stream",
          "text": [
            "tensor([[0.5171, 0.9621],\n",
            "        [0.9579, 0.8345],\n",
            "        [0.1653, 0.8881],\n",
            "        [0.8969, 0.1055],\n",
            "        [0.5918, 0.6415]])\n"
          ],
          "name": "stdout"
        }
      ]
    },
    {
      "cell_type": "code",
      "metadata": {
        "colab": {
          "base_uri": "https://localhost:8080/"
        },
        "id": "uFtmmeogSq7f",
        "outputId": "bd7b40be-70e4-4050-9404-d7950e85a252"
      },
      "source": [
        "b = torch.rand(1, 10, dtype = torch.float)\n",
        "print(b)"
      ],
      "execution_count": null,
      "outputs": [
        {
          "output_type": "stream",
          "text": [
            "tensor([[0.4580, 0.2646, 0.1691, 0.0509, 0.4509, 0.8364, 0.0341, 0.5198, 0.1325,\n",
            "         0.8009]])\n"
          ],
          "name": "stdout"
        }
      ]
    },
    {
      "cell_type": "code",
      "metadata": {
        "colab": {
          "base_uri": "https://localhost:8080/"
        },
        "id": "5CQVTzYSSwn_",
        "outputId": "f942744f-c698-4640-ace1-16f74af7b6ff"
      },
      "source": [
        "c = b.reshape(5, 2)\n",
        "print(c)"
      ],
      "execution_count": null,
      "outputs": [
        {
          "output_type": "stream",
          "text": [
            "tensor([[0.4580, 0.2646],\n",
            "        [0.1691, 0.0509],\n",
            "        [0.4509, 0.8364],\n",
            "        [0.0341, 0.5198],\n",
            "        [0.1325, 0.8009]])\n"
          ],
          "name": "stdout"
        }
      ]
    },
    {
      "cell_type": "code",
      "metadata": {
        "colab": {
          "base_uri": "https://localhost:8080/"
        },
        "id": "0X7Zhl7cS8lK",
        "outputId": "7cc7df87-3900-4d66-d4a0-40c06eb01086"
      },
      "source": [
        "print(a.add(c))\n",
        "print(a.sub(c))\n",
        "print(a.mul(c))\n",
        "print(a.div(c))"
      ],
      "execution_count": null,
      "outputs": [
        {
          "output_type": "stream",
          "text": [
            "tensor([[0.9751, 1.2267],\n",
            "        [1.1271, 0.8854],\n",
            "        [0.6161, 1.7244],\n",
            "        [0.9310, 0.6252],\n",
            "        [0.7244, 1.4424]])\n",
            "tensor([[ 0.0592,  0.6975],\n",
            "        [ 0.7888,  0.7837],\n",
            "        [-0.2856,  0.0517],\n",
            "        [ 0.8628, -0.4143],\n",
            "        [ 0.4593, -0.1594]])\n",
            "tensor([[0.2368, 0.2546],\n",
            "        [0.1620, 0.0424],\n",
            "        [0.0745, 0.7428],\n",
            "        [0.0306, 0.0548],\n",
            "        [0.0784, 0.5138]])\n",
            "tensor([[ 1.1292,  3.6356],\n",
            "        [ 5.6632, 16.4097],\n",
            "        [ 0.3666,  1.0618],\n",
            "        [26.2852,  0.2030],\n",
            "        [ 4.4656,  0.8009]])\n"
          ],
          "name": "stdout"
        }
      ]
    },
    {
      "cell_type": "markdown",
      "metadata": {
        "id": "rIaroFO6YKBT"
      },
      "source": [
        "### Задача 3"
      ]
    },
    {
      "cell_type": "markdown",
      "metadata": {
        "id": "GfLHVvKvYKBT"
      },
      "source": [
        "1). Создайте тензор *целых чисел* `images` размерности (100, 200, 200, 3) (можно интерпретировать это как 100 картинок размера 200х200 с тремя цветовыми каналами, то есть 100 цветных изображений 200х200). Заполните его нулями  \n",
        "\n",
        "2). Сделайте так, чтобы у $i$-ой по порядку картинки была нарисована белая полоса толщиной два пикселя в строках, которые соответствуют номеру картинки. Например, у 3-ей по порядку картинки белая полоска будет занимать 6 и 7 строки, у 99 - 198 и 199. Сделать белую строку можно, записав в ячейки тензора число 255 (по всем трём каналам). Выведите несколько примеров с помощью `pylot`  \n",
        "\n",
        "3). Посчитайте среднее тензора `images` по 1-ой оси (по сути - средняя картинка), умножьте полученный тензор на 70. Нарисуйте с помощью `pyplot`, должна получиться серая картинка (при взятии среднего нужно привести тензор к float с помощью `.float()`, при отрисовке обратно к int с помощью `.int()`)"
      ]
    },
    {
      "cell_type": "code",
      "metadata": {
        "id": "pZVGHEQQYKBU"
      },
      "source": [
        "images = torch.IntTensor(100, 200, 200, 3).zero_()"
      ],
      "execution_count": null,
      "outputs": []
    },
    {
      "cell_type": "code",
      "metadata": {
        "id": "rbcCv93GgRsC"
      },
      "source": [
        "for i in range(0, 100):\n",
        "  images[i][i * 2 : i * 2 + 2] = 255"
      ],
      "execution_count": null,
      "outputs": []
    },
    {
      "cell_type": "code",
      "metadata": {
        "colab": {
          "base_uri": "https://localhost:8080/",
          "height": 285
        },
        "id": "Oy8UHKsoia8z",
        "outputId": "89dda4ba-8ce6-40c4-fb6c-5be1f1ac2dfd"
      },
      "source": [
        "plt.imshow(images[10])"
      ],
      "execution_count": null,
      "outputs": [
        {
          "output_type": "execute_result",
          "data": {
            "text/plain": [
              "<matplotlib.image.AxesImage at 0x7fe6d5316320>"
            ]
          },
          "metadata": {
            "tags": []
          },
          "execution_count": 48
        },
        {
          "output_type": "display_data",
          "data": {
            "image/png": "[encoded data removed]",
            "text/plain": [
              "<Figure size 432x288 with 1 Axes>"
            ]
          },
          "metadata": {
            "tags": [],
            "needs_background": "light"
          }
        }
      ]
    },
    {
      "cell_type": "code",
      "metadata": {
        "colab": {
          "base_uri": "https://localhost:8080/",
          "height": 285
        },
        "id": "C4BZWWVggVbh",
        "outputId": "26329fcb-3441-41c6-b519-6bad5fb8f838"
      },
      "source": [
        "plt.imshow(images[10])"
      ],
      "execution_count": null,
      "outputs": [
        {
          "output_type": "execute_result",
          "data": {
            "text/plain": [
              "<matplotlib.image.AxesImage at 0x7fe6d5297198>"
            ]
          },
          "metadata": {
            "tags": []
          },
          "execution_count": 49
        },
        {
          "output_type": "display_data",
          "data": {
            "image/png": "[encoded data removed]",
            "text/plain": [
              "<Figure size 432x288 with 1 Axes>"
            ]
          },
          "metadata": {
            "tags": [],
            "needs_background": "light"
          }
        }
      ]
    },
    {
      "cell_type": "code",
      "metadata": {
        "colab": {
          "base_uri": "https://localhost:8080/",
          "height": 285
        },
        "id": "L05A0YWhgV0c",
        "outputId": "030c26cf-72b0-4c1b-d23a-502e0f0760b5"
      },
      "source": [
        "plt.imshow(images[20])"
      ],
      "execution_count": null,
      "outputs": [
        {
          "output_type": "execute_result",
          "data": {
            "text/plain": [
              "<matplotlib.image.AxesImage at 0x7fe6d52752b0>"
            ]
          },
          "metadata": {
            "tags": []
          },
          "execution_count": 50
        },
        {
          "output_type": "display_data",
          "data": {
            "image/png": "[encoded data removed]",
            "text/plain": [
              "<Figure size 432x288 with 1 Axes>"
            ]
          },
          "metadata": {
            "tags": [],
            "needs_background": "light"
          }
        }
      ]
    },
    {
      "cell_type": "code",
      "metadata": {
        "id": "gusQsdhzgcWm"
      },
      "source": [
        "average = (torch.mean(images.float(), dim=0) * 70).int()"
      ],
      "execution_count": null,
      "outputs": []
    },
    {
      "cell_type": "code",
      "metadata": {
        "colab": {
          "base_uri": "https://localhost:8080/",
          "height": 285
        },
        "id": "WhIHGwy5hBQg",
        "outputId": "cd65d8d8-f6fc-4327-8adc-3ead21f83df1"
      },
      "source": [
        "plt.imshow(average)"
      ],
      "execution_count": null,
      "outputs": [
        {
          "output_type": "execute_result",
          "data": {
            "text/plain": [
              "<matplotlib.image.AxesImage at 0x7fe6d5220438>"
            ]
          },
          "metadata": {
            "tags": []
          },
          "execution_count": 57
        },
        {
          "output_type": "display_data",
          "data": {
            "image/png": "[encoded data removed]",
            "text/plain": [
              "<Figure size 432x288 with 1 Axes>"
            ]
          },
          "metadata": {
            "tags": [],
            "needs_background": "light"
          }
        }
      ]
    },
    {
      "cell_type": "markdown",
      "metadata": {
        "id": "oQnhq5ZdYKCu"
      },
      "source": [
        "### Задача 4"
      ]
    },
    {
      "cell_type": "markdown",
      "metadata": {
        "id": "UB95BhgTYKCu"
      },
      "source": [
        "- В Colab нажмите в меню сверху: `Runtime` -> `Change Runtime Type` -> `GPU`, где изначально стоит `None` (`Среда выполнение` - `Сменить среду выполнения`)\n",
        "- Объявите тензор `a` размера (2, 3, 4) и тензор `b` размера (1, 8, 3) на GPU, иницилизируйте их случайно равномерно (`.uniform_()`)\n",
        "- Затем измените форму тензора `b`, чтобы она совпадала с формой тензора `a`, получите тензор `c`  \n",
        "- Переместите `c` на CPU, переместите `a` на CPU  \n",
        "- Оберните их в `Variable()`\n",
        "- Объявите тензор `L = torch.mean((c - a) `**` 2)` и посчитайте градиент `L` по `c` ( то есть $\\frac{\\partial{L}}{\\partial{c}})$\n",
        "- Выведите градиент `L` по `c`"
      ]
    },
    {
      "cell_type": "code",
      "metadata": {
        "id": "WESOm5TCYKCv",
        "colab": {
          "base_uri": "https://localhost:8080/"
        },
        "outputId": "74d67479-aa1c-4ff6-c015-5037a677c56b"
      },
      "source": [
        "a = torch.FloatTensor(2, 3, 4).uniform_()\n",
        "a = a.cuda()\n",
        "print(a.is_cuda)\n",
        "print(a)"
      ],
      "execution_count": null,
      "outputs": [
        {
          "output_type": "stream",
          "text": [
            "True\n",
            "tensor([[[0.0350, 0.6294, 0.1149, 0.9949],\n",
            "         [0.0837, 0.0153, 0.6358, 0.6185],\n",
            "         [0.2736, 0.8473, 0.0404, 0.3398]],\n",
            "\n",
            "        [[0.2214, 0.4852, 0.7788, 0.4626],\n",
            "         [0.0595, 0.7234, 0.1635, 0.0571],\n",
            "         [0.0752, 0.6242, 0.2231, 0.5959]]], device='cuda:0')\n"
          ],
          "name": "stdout"
        }
      ]
    },
    {
      "cell_type": "code",
      "metadata": {
        "colab": {
          "base_uri": "https://localhost:8080/"
        },
        "id": "f58s6Ow-nYEf",
        "outputId": "0638499e-75d5-4d7a-ec04-6cf1616e1cda"
      },
      "source": [
        "b = torch.FloatTensor(1, 8, 3).uniform_()\n",
        "b = b.cuda()\n",
        "print(b.is_cuda)\n",
        "print(b)"
      ],
      "execution_count": null,
      "outputs": [
        {
          "output_type": "stream",
          "text": [
            "True\n",
            "tensor([[[9.1760e-01, 9.2789e-01, 3.0925e-01],\n",
            "         [7.6197e-01, 1.6489e-01, 5.7776e-01],\n",
            "         [1.0478e-01, 5.7445e-02, 4.3515e-01],\n",
            "         [3.0400e-01, 6.8107e-01, 8.7414e-01],\n",
            "         [5.3269e-01, 4.5428e-01, 9.9401e-01],\n",
            "         [8.1183e-01, 2.1844e-01, 8.3067e-01],\n",
            "         [5.3254e-01, 1.3795e-01, 1.2970e-04],\n",
            "         [1.9997e-01, 5.7794e-02, 2.6934e-01]]], device='cuda:0')\n"
          ],
          "name": "stdout"
        }
      ]
    },
    {
      "cell_type": "code",
      "metadata": {
        "colab": {
          "base_uri": "https://localhost:8080/"
        },
        "id": "GUJG1Y66ng0X",
        "outputId": "161d9a77-bf66-4362-9f61-250fbb26204a"
      },
      "source": [
        "c = b.reshape(2, 3, 4)\n",
        "print(c)"
      ],
      "execution_count": null,
      "outputs": [
        {
          "output_type": "stream",
          "text": [
            "tensor([[[9.1760e-01, 9.2789e-01, 3.0925e-01, 7.6197e-01],\n",
            "         [1.6489e-01, 5.7776e-01, 1.0478e-01, 5.7445e-02],\n",
            "         [4.3515e-01, 3.0400e-01, 6.8107e-01, 8.7414e-01]],\n",
            "\n",
            "        [[5.3269e-01, 4.5428e-01, 9.9401e-01, 8.1183e-01],\n",
            "         [2.1844e-01, 8.3067e-01, 5.3254e-01, 1.3795e-01],\n",
            "         [1.2970e-04, 1.9997e-01, 5.7794e-02, 2.6934e-01]]], device='cuda:0')\n"
          ],
          "name": "stdout"
        }
      ]
    },
    {
      "cell_type": "code",
      "metadata": {
        "colab": {
          "base_uri": "https://localhost:8080/"
        },
        "id": "NAjIDKwHny2K",
        "outputId": "1987a29b-aacc-4b3a-cc5d-be9f49a69a47"
      },
      "source": [
        "a = a.cpu()\n",
        "print(a.is_cuda)"
      ],
      "execution_count": null,
      "outputs": [
        {
          "output_type": "stream",
          "text": [
            "False\n"
          ],
          "name": "stdout"
        }
      ]
    },
    {
      "cell_type": "code",
      "metadata": {
        "colab": {
          "base_uri": "https://localhost:8080/"
        },
        "id": "lYlGJ5bUn_wN",
        "outputId": "3d45b229-af44-4a53-898e-7bda8f92c17b"
      },
      "source": [
        "c = c.cpu()\n",
        "print(c.is_cuda)"
      ],
      "execution_count": null,
      "outputs": [
        {
          "output_type": "stream",
          "text": [
            "False\n"
          ],
          "name": "stdout"
        }
      ]
    },
    {
      "cell_type": "code",
      "metadata": {
        "id": "xrmAsNE0oEze"
      },
      "source": [
        "from torch.autograd import Variable\n",
        "a = Variable(a, requires_grad=False)\n",
        "c = Variable(c, requires_grad=True)"
      ],
      "execution_count": null,
      "outputs": []
    },
    {
      "cell_type": "code",
      "metadata": {
        "id": "7CXdTtGPoUU6"
      },
      "source": [
        "L = torch.mean((c - a) ** 2)"
      ],
      "execution_count": null,
      "outputs": []
    },
    {
      "cell_type": "code",
      "metadata": {
        "id": "dvWI7SLlo7Fn"
      },
      "source": [
        "L.backward()"
      ],
      "execution_count": null,
      "outputs": []
    },
    {
      "cell_type": "code",
      "metadata": {
        "colab": {
          "base_uri": "https://localhost:8080/"
        },
        "id": "h3ulDJzqogVk",
        "outputId": "63e60997-7c51-4a4b-e993-5502b2e2394d"
      },
      "source": [
        "c.grad"
      ],
      "execution_count": null,
      "outputs": [
        {
          "output_type": "execute_result",
          "data": {
            "text/plain": [
              "tensor([[[ 0.0735,  0.0249,  0.0162, -0.0194],\n",
              "         [ 0.0068,  0.0469, -0.0442, -0.0468],\n",
              "         [ 0.0135, -0.0453,  0.0534,  0.0445]],\n",
              "\n",
              "        [[ 0.0259, -0.0026,  0.0179,  0.0291],\n",
              "         [ 0.0132,  0.0089,  0.0308,  0.0067],\n",
              "         [-0.0063, -0.0353, -0.0138, -0.0272]]])"
            ]
          },
          "metadata": {
            "tags": []
          },
          "execution_count": 10
        }
      ]
    }
  ]
}