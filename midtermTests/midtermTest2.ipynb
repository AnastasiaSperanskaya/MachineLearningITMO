{
  "nbformat": 4,
  "nbformat_minor": 0,
  "metadata": {
    "kernelspec": {
      "display_name": "Python 3",
      "language": "python",
      "name": "python3"
    },
    "language_info": {
      "codemirror_mode": {
        "name": "ipython",
        "version": 3
      },
      "file_extension": ".py",
      "mimetype": "text/x-python",
      "name": "python",
      "nbconvert_exporter": "python",
      "pygments_lexer": "ipython3",
      "version": "3.6.5"
    },
    "toc": {
      "base_numbering": 1,
      "nav_menu": {},
      "number_sections": true,
      "sideBar": true,
      "skip_h1_title": false,
      "title_cell": "Table of Contents",
      "title_sidebar": "Contents",
      "toc_cell": false,
      "toc_position": {},
      "toc_section_display": true,
      "toc_window_display": false
    },
    "colab": {
      "name": "midtermTest2",
      "provenance": [],
      "collapsed_sections": [],
      "include_colab_link": true
    },
    "accelerator": "GPU"
  },
  "cells": [
    {
      "cell_type": "markdown",
      "metadata": {
        "id": "view-in-github",
        "colab_type": "text"
      },
      "source": [
        "<a href=\"https://colab.research.google.com/github/AnastasiaSperanskaya/MachineLearningITMO/blob/main/midtermTests/midtermTest2.ipynb\" target=\"_parent\"><img src=\"https://colab.research.google.com/assets/colab-badge.svg\" alt=\"Open In Colab\"/></a>"
      ]
    },
    {
      "cell_type": "markdown",
      "metadata": {
        "id": "LYKqDli0Lqas"
      },
      "source": [
        "# Рубежная контрольная работа\n",
        "\n",
        "Эту работу выполнять не обязательно. Баллы набранные за работу просуммируются с баллами, которые были набраны за контрольную работу 1 и выставлены как оценка за промежуточную аттестацию \"автоматом\". "
      ]
    },
    {
      "cell_type": "markdown",
      "metadata": {
        "id": "Cdt8kOfu4K3x"
      },
      "source": [
        "Сделайте копию ноутбука\n",
        "\n",
        "Присвойте переменной `v` значение свой табельный номер ИСУ, это нужно для определения вашего варианта. Запустите код в следующей ячейке."
      ]
    },
    {
      "cell_type": "code",
      "metadata": {
        "id": "38Ryn8pjvYqb",
        "colab": {
          "base_uri": "https://localhost:8080/"
        },
        "outputId": "3128bb42-7a90-475a-a31c-1bd3006aa09a"
      },
      "source": [
        "from datetime import datetime\n",
        "current_datetime = datetime.now()\n",
        "print(current_datetime)\n",
        "v = 264248 # по умолчанию вписан мой номер"
      ],
      "execution_count": null,
      "outputs": [
        {
          "output_type": "stream",
          "text": [
            "2020-12-21 15:14:16.097253\n"
          ],
          "name": "stdout"
        }
      ]
    },
    {
      "cell_type": "markdown",
      "metadata": {
        "id": "W85i4fC7srcf"
      },
      "source": [
        "# Общее задание"
      ]
    },
    {
      "cell_type": "markdown",
      "metadata": {
        "id": "tIXprGNhsvTG"
      },
      "source": [
        "Нужно решить задачу бинарной классификации, предварительно построив признаковое описание объектов на основе нескольких таблиц. \r\n",
        "\r\n",
        "Целевая переменная - пол клиента.\r\n",
        "\r\n",
        "В качестве модели нужно использовать нейронную сеть, которую нужно строить с помощью `keras` или `torch` на выбор студента."
      ]
    },
    {
      "cell_type": "markdown",
      "metadata": {
        "id": "G5nnK3tftPvc"
      },
      "source": [
        "# Данные"
      ]
    },
    {
      "cell_type": "markdown",
      "metadata": {
        "id": "y8f3_l3KtSUh"
      },
      "source": [
        "Для всех последующих заданий будем использовать обезличенные транзакционные банковские данные. Для этого считайте в переменные **transactions, tr_mcc_codes и gender_train** из одноимённых таблиц из папки data. Для таблицы transactions используйте только первые n=1000000 строк."
      ]
    },
    {
      "cell_type": "markdown",
      "metadata": {
        "id": "6gIKs_I-tr27"
      },
      "source": [
        "Эти данные уже использовались в работе 2. Описание данных тут: https://drive.google.com/file/d/13sn8orjkoGfO1SVZYByXNmZQYFRfmOdp/view?usp=sharing\r\n",
        "\r\n",
        "Скачать данные отсюда: https://drive.google.com/drive/folders/1YAMe7MiTxA-RSSd8Ex2p-L0Dspe6Gs4L?usp=sharing"
      ]
    },
    {
      "cell_type": "markdown",
      "metadata": {
        "id": "OFP_i1F1Lqay"
      },
      "source": [
        "## Задание 1\n",
        "\n",
        "В задании требуется на основе нескольких таблиц с данными сделать признаковое описание объектов. \n",
        "\n",
        "Объектами являются клиенты. Клиенты идентифицируются с помощью `customer_id`, которые есть в таблицах **transactions** и **gender_train**. В качестве призаков нужно использовать даннее по категориям транзаций: ```mcc_code``` — mcc-код транзакции есть в таблицах **transactions** и **tr_mcc_codes**\n"
      ]
    },
    {
      "cell_type": "markdown",
      "metadata": {
        "id": "F57T22yav-gp"
      },
      "source": [
        "Для выбора варианта, запустите код в следующей ячейке\n",
        "\n"
      ]
    },
    {
      "cell_type": "code",
      "metadata": {
        "id": "zFcuNXzcwMbH",
        "colab": {
          "base_uri": "https://localhost:8080/"
        },
        "outputId": "2318d783-9086-4461-feff-6618bc9bef1a"
      },
      "source": [
        "print ('Список категорий')\n",
        "feature_list = ['Одежда (также нужно искать \"одежды\")', 'Аптеки', 'Ценные бумаги', 'Магазины косметики и Салоны красоты', 'Образовательные услуги (а также школы, университеты)',\n",
        "                'Алименты', 'Прокат автомобилей', 'Автозапчасти, Автошины и Станции техобслуживания (а также СТО)', 'Видеоигры (искать надо по \"видеоигр\")',\n",
        "                'Отели', 'Программирование', 'Ремонт', 'Предсказатели будущего', 'Ювелирные изделия']\n",
        "if (int(str(v)[4]) % 2) == 0:\n",
        "  print (feature_list[::2])\n",
        "else:\n",
        "  print (feature_list[::-2])\n",
        "\n",
        "\n",
        "if (int(str(v)[5]) % 2) == 0:\n",
        "  print ('В качестве значений признаков используйте количество транзакций с тратами и количество транзакций с поступлениями')\n",
        "else: \n",
        "  print ('В качестве значений признаков используйте сумму по транзакциям с тратами и сумму по транзакциям с поступлениями')"
      ],
      "execution_count": null,
      "outputs": [
        {
          "output_type": "stream",
          "text": [
            "Список категорий\n",
            "['Одежда (также нужно искать \"одежды\")', 'Ценные бумаги', 'Образовательные услуги (а также школы, университеты)', 'Прокат автомобилей', 'Видеоигры (искать надо по \"видеоигр\")', 'Программирование', 'Предсказатели будущего']\n",
            "В качестве значений признаков используйте количество транзакций с тратами и количество транзакций с поступлениями\n"
          ],
          "name": "stdout"
        }
      ]
    },
    {
      "cell_type": "markdown",
      "metadata": {
        "id": "3V5SzWwN7k8F"
      },
      "source": [
        "Каждая категория может быть связана с одним или несколькими mcc-кодами. Например, вот несколько mcc-кодов по категории \"Одежда\": \r\n",
        "* 5621; Готовая женская одежда\r\n",
        "* 5641; Детская одежда\r\n",
        "* 5651; Одежда для всей семьи"
      ]
    },
    {
      "cell_type": "markdown",
      "metadata": {
        "id": "xgFGtCDIvU4m"
      },
      "source": [
        "Таким образом получится 14 признаков, то есть семь категорий, каждая из которых даст два значения: траты и поступления. Например, категория \"Одежда\" даёт признаки \"Одежда траты\" и \"Одежда поступления\"."
      ]
    },
    {
      "cell_type": "markdown",
      "metadata": {
        "id": "xGC6oWTyv9S4"
      },
      "source": [
        "Сделайте нормализацию значений признаков так, чтобы все означения менялись от 0 до 1. "
      ]
    },
    {
      "cell_type": "code",
      "metadata": {
        "colab": {
          "base_uri": "https://localhost:8080/"
        },
        "id": "npXNTa9z6p1p",
        "outputId": "638882a3-3343-41b6-e442-4ddfe8ec7d9b"
      },
      "source": [
        "!pip install PyDrive\n",
        "import pandas as pd\n",
        "import numpy as np\n",
        "from pydrive.auth import GoogleAuth\n",
        "from pydrive.drive import GoogleDrive\n",
        "from google.colab import auth\n",
        "from oauth2client.client import GoogleCredentials\n",
        "auth.authenticate_user()\n",
        "gauth = GoogleAuth()\n",
        "gauth.credentials = GoogleCredentials.get_application_default()\n",
        "drive = GoogleDrive(gauth)\n",
        "downloaded = drive.CreateFile({'id':\"1glFA40HUSGvjxCtyqSmPYpXbPNY9WOJM\"})\n",
        "downloaded.GetContentFile('transactions.csv')\n",
        "transactions = pd.read_csv('transactions.csv', sep = ',', nrows = 1000000)\n",
        "downloaded = drive.CreateFile({'id':\"1t6ij-5D8v_VXFn8RKAOL5sn3qDWCMiiF\"})\n",
        "downloaded.GetContentFile('tr_mcc_codes.csv')\n",
        "tr_mcc_codes = pd.read_csv('tr_mcc_codes.csv', sep = ';')\n",
        "downloaded = drive.CreateFile({'id':\"1fd81mF4KWKm-e7xCqDAVtHN5T5yn2k_D\"})\n",
        "downloaded.GetContentFile('gender_train.csv')\n",
        "gender_train = pd.read_csv('gender_train.csv', sep = ',')"
      ],
      "execution_count": null,
      "outputs": [
        {
          "output_type": "stream",
          "text": [
            "Requirement already satisfied: PyDrive in /usr/local/lib/python3.6/dist-packages (1.3.1)\n",
            "Requirement already satisfied: google-api-python-client>=1.2 in /usr/local/lib/python3.6/dist-packages (from PyDrive) (1.7.12)\n",
            "Requirement already satisfied: oauth2client>=4.0.0 in /usr/local/lib/python3.6/dist-packages (from PyDrive) (4.1.3)\n",
            "Requirement already satisfied: PyYAML>=3.0 in /usr/local/lib/python3.6/dist-packages (from PyDrive) (3.13)\n",
            "Requirement already satisfied: six<2dev,>=1.6.1 in /usr/local/lib/python3.6/dist-packages (from google-api-python-client>=1.2->PyDrive) (1.15.0)\n",
            "Requirement already satisfied: google-auth-httplib2>=0.0.3 in /usr/local/lib/python3.6/dist-packages (from google-api-python-client>=1.2->PyDrive) (0.0.4)\n",
            "Requirement already satisfied: google-auth>=1.4.1 in /usr/local/lib/python3.6/dist-packages (from google-api-python-client>=1.2->PyDrive) (1.17.2)\n",
            "Requirement already satisfied: httplib2<1dev,>=0.17.0 in /usr/local/lib/python3.6/dist-packages (from google-api-python-client>=1.2->PyDrive) (0.17.4)\n",
            "Requirement already satisfied: uritemplate<4dev,>=3.0.0 in /usr/local/lib/python3.6/dist-packages (from google-api-python-client>=1.2->PyDrive) (3.0.1)\n",
            "Requirement already satisfied: pyasn1>=0.1.7 in /usr/local/lib/python3.6/dist-packages (from oauth2client>=4.0.0->PyDrive) (0.4.8)\n",
            "Requirement already satisfied: pyasn1-modules>=0.0.5 in /usr/local/lib/python3.6/dist-packages (from oauth2client>=4.0.0->PyDrive) (0.2.8)\n",
            "Requirement already satisfied: rsa>=3.1.4 in /usr/local/lib/python3.6/dist-packages (from oauth2client>=4.0.0->PyDrive) (4.6)\n",
            "Requirement already satisfied: cachetools<5.0,>=2.0.0 in /usr/local/lib/python3.6/dist-packages (from google-auth>=1.4.1->google-api-python-client>=1.2->PyDrive) (4.2.0)\n",
            "Requirement already satisfied: setuptools>=40.3.0 in /usr/local/lib/python3.6/dist-packages (from google-auth>=1.4.1->google-api-python-client>=1.2->PyDrive) (50.3.2)\n"
          ],
          "name": "stdout"
        }
      ]
    },
    {
      "cell_type": "code",
      "metadata": {
        "colab": {
          "base_uri": "https://localhost:8080/",
          "height": 172
        },
        "id": "zF05BIICAFJw",
        "outputId": "11335c9a-6c48-4113-8e09-1b1f43df24c4"
      },
      "source": [
        "mcc_clothes = tr_mcc_codes[tr_mcc_codes['mcc_description'].str.contains('Одежда|одежды')]\n",
        "mcc_clothes"
      ],
      "execution_count": null,
      "outputs": [
        {
          "output_type": "execute_result",
          "data": {
            "text/html": [
              "<div>\n",
              "<style scoped>\n",
              "    .dataframe tbody tr th:only-of-type {\n",
              "        vertical-align: middle;\n",
              "    }\n",
              "\n",
              "    .dataframe tbody tr th {\n",
              "        vertical-align: top;\n",
              "    }\n",
              "\n",
              "    .dataframe thead th {\n",
              "        text-align: right;\n",
              "    }\n",
              "</style>\n",
              "<table border=\"1\" class=\"dataframe\">\n",
              "  <thead>\n",
              "    <tr style=\"text-align: right;\">\n",
              "      <th></th>\n",
              "      <th>mcc_code</th>\n",
              "      <th>mcc_description</th>\n",
              "    </tr>\n",
              "  </thead>\n",
              "  <tbody>\n",
              "    <tr>\n",
              "      <th>73</th>\n",
              "      <td>5651</td>\n",
              "      <td>Одежда для всей семьи</td>\n",
              "    </tr>\n",
              "    <tr>\n",
              "      <th>77</th>\n",
              "      <td>5691</td>\n",
              "      <td>Магазины мужской и женской одежды</td>\n",
              "    </tr>\n",
              "    <tr>\n",
              "      <th>78</th>\n",
              "      <td>5697</td>\n",
              "      <td>Услуги по переделке, починке и пошиву одежды</td>\n",
              "    </tr>\n",
              "    <tr>\n",
              "      <th>79</th>\n",
              "      <td>5699</td>\n",
              "      <td>Различные магазины одежды и аксессуаров</td>\n",
              "    </tr>\n",
              "  </tbody>\n",
              "</table>\n",
              "</div>"
            ],
            "text/plain": [
              "    mcc_code                               mcc_description\n",
              "73      5651                         Одежда для всей семьи\n",
              "77      5691             Магазины мужской и женской одежды\n",
              "78      5697  Услуги по переделке, починке и пошиву одежды\n",
              "79      5699       Различные магазины одежды и аксессуаров"
            ]
          },
          "metadata": {
            "tags": []
          },
          "execution_count": 7
        }
      ]
    },
    {
      "cell_type": "code",
      "metadata": {
        "colab": {
          "base_uri": "https://localhost:8080/",
          "height": 80
        },
        "id": "8kEItMBlAxp8",
        "outputId": "028a93e4-7c07-46fc-a206-42aa1e411b2f"
      },
      "source": [
        "mcc_papers = tr_mcc_codes[tr_mcc_codes['mcc_description'].str.contains('Ценные бумаги')]\n",
        "mcc_papers"
      ],
      "execution_count": null,
      "outputs": [
        {
          "output_type": "execute_result",
          "data": {
            "text/html": [
              "<div>\n",
              "<style scoped>\n",
              "    .dataframe tbody tr th:only-of-type {\n",
              "        vertical-align: middle;\n",
              "    }\n",
              "\n",
              "    .dataframe tbody tr th {\n",
              "        vertical-align: top;\n",
              "    }\n",
              "\n",
              "    .dataframe thead th {\n",
              "        text-align: right;\n",
              "    }\n",
              "</style>\n",
              "<table border=\"1\" class=\"dataframe\">\n",
              "  <thead>\n",
              "    <tr style=\"text-align: right;\">\n",
              "      <th></th>\n",
              "      <th>mcc_code</th>\n",
              "      <th>mcc_description</th>\n",
              "    </tr>\n",
              "  </thead>\n",
              "  <tbody>\n",
              "    <tr>\n",
              "      <th>127</th>\n",
              "      <td>6211</td>\n",
              "      <td>Ценные бумаги: брокеры/дилеры</td>\n",
              "    </tr>\n",
              "  </tbody>\n",
              "</table>\n",
              "</div>"
            ],
            "text/plain": [
              "     mcc_code                mcc_description\n",
              "127      6211  Ценные бумаги: брокеры/дилеры"
            ]
          },
          "metadata": {
            "tags": []
          },
          "execution_count": 8
        }
      ]
    },
    {
      "cell_type": "code",
      "metadata": {
        "colab": {
          "base_uri": "https://localhost:8080/",
          "height": 110
        },
        "id": "Yg6mTYEbA9iv",
        "outputId": "c8322910-3601-4aeb-ce34-2d13587cd911"
      },
      "source": [
        "mcc_edu = tr_mcc_codes[tr_mcc_codes['mcc_description'].str.contains('Образовательные услуги|школы|университеты')]\n",
        "mcc_edu"
      ],
      "execution_count": null,
      "outputs": [
        {
          "output_type": "execute_result",
          "data": {
            "text/html": [
              "<div>\n",
              "<style scoped>\n",
              "    .dataframe tbody tr th:only-of-type {\n",
              "        vertical-align: middle;\n",
              "    }\n",
              "\n",
              "    .dataframe tbody tr th {\n",
              "        vertical-align: top;\n",
              "    }\n",
              "\n",
              "    .dataframe thead th {\n",
              "        text-align: right;\n",
              "    }\n",
              "</style>\n",
              "<table border=\"1\" class=\"dataframe\">\n",
              "  <thead>\n",
              "    <tr style=\"text-align: right;\">\n",
              "      <th></th>\n",
              "      <th>mcc_code</th>\n",
              "      <th>mcc_description</th>\n",
              "    </tr>\n",
              "  </thead>\n",
              "  <tbody>\n",
              "    <tr>\n",
              "      <th>172</th>\n",
              "      <td>8220</td>\n",
              "      <td>Колледжи, университеты, профессиональные школы...</td>\n",
              "    </tr>\n",
              "    <tr>\n",
              "      <th>174</th>\n",
              "      <td>8299</td>\n",
              "      <td>Образовательные услуги</td>\n",
              "    </tr>\n",
              "  </tbody>\n",
              "</table>\n",
              "</div>"
            ],
            "text/plain": [
              "     mcc_code                                    mcc_description\n",
              "172      8220  Колледжи, университеты, профессиональные школы...\n",
              "174      8299                             Образовательные услуги"
            ]
          },
          "metadata": {
            "tags": []
          },
          "execution_count": 9
        }
      ]
    },
    {
      "cell_type": "code",
      "metadata": {
        "colab": {
          "base_uri": "https://localhost:8080/",
          "height": 80
        },
        "id": "vJgk_rxkBIZE",
        "outputId": "f01c78a1-8f34-46f5-b53c-aec8854c25a1"
      },
      "source": [
        "mcc_auto = tr_mcc_codes[tr_mcc_codes['mcc_description'].str.contains('Прокат автомобилей')]\n",
        "mcc_auto"
      ],
      "execution_count": null,
      "outputs": [
        {
          "output_type": "execute_result",
          "data": {
            "text/html": [
              "<div>\n",
              "<style scoped>\n",
              "    .dataframe tbody tr th:only-of-type {\n",
              "        vertical-align: middle;\n",
              "    }\n",
              "\n",
              "    .dataframe tbody tr th {\n",
              "        vertical-align: top;\n",
              "    }\n",
              "\n",
              "    .dataframe thead th {\n",
              "        text-align: right;\n",
              "    }\n",
              "</style>\n",
              "<table border=\"1\" class=\"dataframe\">\n",
              "  <thead>\n",
              "    <tr style=\"text-align: right;\">\n",
              "      <th></th>\n",
              "      <th>mcc_code</th>\n",
              "      <th>mcc_description</th>\n",
              "    </tr>\n",
              "  </thead>\n",
              "  <tbody>\n",
              "    <tr>\n",
              "      <th>146</th>\n",
              "      <td>7512</td>\n",
              "      <td>Прокат автомобилей</td>\n",
              "    </tr>\n",
              "  </tbody>\n",
              "</table>\n",
              "</div>"
            ],
            "text/plain": [
              "     mcc_code     mcc_description\n",
              "146      7512  Прокат автомобилей"
            ]
          },
          "metadata": {
            "tags": []
          },
          "execution_count": 10
        }
      ]
    },
    {
      "cell_type": "code",
      "metadata": {
        "colab": {
          "base_uri": "https://localhost:8080/",
          "height": 110
        },
        "id": "lGu5broABTES",
        "outputId": "bd95904c-46e7-436d-d32f-793960ac8d74"
      },
      "source": [
        "mcc_games = tr_mcc_codes[tr_mcc_codes['mcc_description'].str.contains('видеоигр')]\n",
        "mcc_games"
      ],
      "execution_count": null,
      "outputs": [
        {
          "output_type": "execute_result",
          "data": {
            "text/html": [
              "<div>\n",
              "<style scoped>\n",
              "    .dataframe tbody tr th:only-of-type {\n",
              "        vertical-align: middle;\n",
              "    }\n",
              "\n",
              "    .dataframe tbody tr th {\n",
              "        vertical-align: top;\n",
              "    }\n",
              "\n",
              "    .dataframe thead th {\n",
              "        text-align: right;\n",
              "    }\n",
              "</style>\n",
              "<table border=\"1\" class=\"dataframe\">\n",
              "  <thead>\n",
              "    <tr style=\"text-align: right;\">\n",
              "      <th></th>\n",
              "      <th>mcc_code</th>\n",
              "      <th>mcc_description</th>\n",
              "    </tr>\n",
              "  </thead>\n",
              "  <tbody>\n",
              "    <tr>\n",
              "      <th>160</th>\n",
              "      <td>7993</td>\n",
              "      <td>Принадлежности для видеоигр</td>\n",
              "    </tr>\n",
              "    <tr>\n",
              "      <th>161</th>\n",
              "      <td>7994</td>\n",
              "      <td>Галереи/учреждения видеоигр</td>\n",
              "    </tr>\n",
              "  </tbody>\n",
              "</table>\n",
              "</div>"
            ],
            "text/plain": [
              "     mcc_code              mcc_description\n",
              "160      7993  Принадлежности для видеоигр\n",
              "161      7994  Галереи/учреждения видеоигр"
            ]
          },
          "metadata": {
            "tags": []
          },
          "execution_count": 11
        }
      ]
    },
    {
      "cell_type": "code",
      "metadata": {
        "colab": {
          "base_uri": "https://localhost:8080/",
          "height": 80
        },
        "id": "nBjO2oooBirB",
        "outputId": "6977b0a9-e26f-4c98-cc81-6fcd8407bc24"
      },
      "source": [
        "mcc_code = tr_mcc_codes[tr_mcc_codes['mcc_description'].str.contains('Программирование')]\n",
        "mcc_code"
      ],
      "execution_count": null,
      "outputs": [
        {
          "output_type": "execute_result",
          "data": {
            "text/html": [
              "<div>\n",
              "<style scoped>\n",
              "    .dataframe tbody tr th:only-of-type {\n",
              "        vertical-align: middle;\n",
              "    }\n",
              "\n",
              "    .dataframe tbody tr th {\n",
              "        vertical-align: top;\n",
              "    }\n",
              "\n",
              "    .dataframe thead th {\n",
              "        text-align: right;\n",
              "    }\n",
              "</style>\n",
              "<table border=\"1\" class=\"dataframe\">\n",
              "  <thead>\n",
              "    <tr style=\"text-align: right;\">\n",
              "      <th></th>\n",
              "      <th>mcc_code</th>\n",
              "      <th>mcc_description</th>\n",
              "    </tr>\n",
              "  </thead>\n",
              "  <tbody>\n",
              "    <tr>\n",
              "      <th>142</th>\n",
              "      <td>7372</td>\n",
              "      <td>Программирование, обработка данных, интегриров...</td>\n",
              "    </tr>\n",
              "  </tbody>\n",
              "</table>\n",
              "</div>"
            ],
            "text/plain": [
              "     mcc_code                                    mcc_description\n",
              "142      7372  Программирование, обработка данных, интегриров..."
            ]
          },
          "metadata": {
            "tags": []
          },
          "execution_count": 12
        }
      ]
    },
    {
      "cell_type": "code",
      "metadata": {
        "colab": {
          "base_uri": "https://localhost:8080/",
          "height": 80
        },
        "id": "Cq1T7bURBof7",
        "outputId": "4ff2cf56-b4aa-40a2-90bb-20b559f49f94"
      },
      "source": [
        "mcc_future = tr_mcc_codes[tr_mcc_codes['mcc_description'].str.contains('предсказатели будущего')]\n",
        "mcc_future"
      ],
      "execution_count": null,
      "outputs": [
        {
          "output_type": "execute_result",
          "data": {
            "text/html": [
              "<div>\n",
              "<style scoped>\n",
              "    .dataframe tbody tr th:only-of-type {\n",
              "        vertical-align: middle;\n",
              "    }\n",
              "\n",
              "    .dataframe tbody tr th {\n",
              "        vertical-align: top;\n",
              "    }\n",
              "\n",
              "    .dataframe thead th {\n",
              "        text-align: right;\n",
              "    }\n",
              "</style>\n",
              "<table border=\"1\" class=\"dataframe\">\n",
              "  <thead>\n",
              "    <tr style=\"text-align: right;\">\n",
              "      <th></th>\n",
              "      <th>mcc_code</th>\n",
              "      <th>mcc_description</th>\n",
              "    </tr>\n",
              "  </thead>\n",
              "  <tbody>\n",
              "    <tr>\n",
              "      <th>163</th>\n",
              "      <td>7996</td>\n",
              "      <td>Луна-парки, карнавалы, цирки, предсказатели бу...</td>\n",
              "    </tr>\n",
              "  </tbody>\n",
              "</table>\n",
              "</div>"
            ],
            "text/plain": [
              "     mcc_code                                    mcc_description\n",
              "163      7996  Луна-парки, карнавалы, цирки, предсказатели бу..."
            ]
          },
          "metadata": {
            "tags": []
          },
          "execution_count": 13
        }
      ]
    },
    {
      "cell_type": "code",
      "metadata": {
        "id": "yvO-ct5lCAFo"
      },
      "source": [
        "df = pd.DataFrame(columns=['id', 'clothes_spend', 'clothes_addm', 'papers_spend', 'papers_addm', 'edu_spend', 'edu_addm', 'auto_spend', 'auto_addm', 'games_spend', 'games_addm', 'code_spend', 'code_addm', 'future_spend', 'future_addm', 'gender'])\n",
        "df['gender'] = gender_train['gender']\n",
        "df['id'] = gender_train['customer_id']\n",
        "table = pd.DataFrame(columns=['id', 'clothes_spend', 'clothes_addm', 'papers_spend', 'papers_addm', 'edu_spend', 'edu_addm', 'auto_spend', 'auto_addm', 'games_spend', 'games_addm', 'code_spend', 'code_addm', 'future_spend', 'future_addm', 'gender'])"
      ],
      "execution_count": null,
      "outputs": []
    },
    {
      "cell_type": "code",
      "metadata": {
        "id": "4xNmV9PLF0Dn"
      },
      "source": [
        "import warnings\n",
        "warnings.filterwarnings(\"ignore\")\n",
        "customers = np.array(gender_train['customer_id'])\n",
        "for customer in customers:\n",
        "  row = df.loc[df['id'] == customer]\n",
        "\n",
        "  smpl = transactions.loc[transactions['customer_id'] == customer]\n",
        "\n",
        "  smpl_attr = smpl.loc[smpl['mcc_code'].isin(mcc_clothes['mcc_code'])]\n",
        "  smpl_attr_addm = smpl_attr.loc[smpl_attr['amount'] > 0]\n",
        "  smpl_attr_spend = smpl_attr.loc[smpl_attr['amount'] < 0]\n",
        "  row['clothes_spend'] = smpl_attr_spend.shape[0]\n",
        "  row['clothes_addm'] = smpl_attr_addm.shape[0]\n",
        "\n",
        "  smpl_attr = smpl.loc[smpl['mcc_code'].isin(mcc_papers['mcc_code'])]\n",
        "  smpl_attr_addm = smpl_attr.loc[smpl_attr['amount'] > 0]\n",
        "  smpl_attr_spend = smpl_attr.loc[smpl_attr['amount'] < 0]\n",
        "  row['papers_spend'] = smpl_attr_spend.shape[0]\n",
        "  row['papers_addm'] = smpl_attr_addm.shape[0]\n",
        "\n",
        "  smpl_attr = smpl.loc[smpl['mcc_code'].isin(mcc_edu['mcc_code'])]\n",
        "  smpl_attr_addm = smpl_attr.loc[smpl_attr['amount'] > 0]\n",
        "  smpl_attr_spend = smpl_attr.loc[smpl_attr['amount'] < 0]\n",
        "  row['edu_spend'] = smpl_attr_spend.shape[0]\n",
        "  row['edu_addm'] = smpl_attr_addm.shape[0]\n",
        "\n",
        "  smpl_attr = smpl.loc[smpl['mcc_code'].isin(mcc_auto['mcc_code'])]\n",
        "  smpl_attr_addm = smpl_attr.loc[smpl_attr['amount'] > 0]\n",
        "  smpl_attr_spend = smpl_attr.loc[smpl_attr['amount'] < 0]\n",
        "  row['auto_spend'] = smpl_attr_spend.shape[0]\n",
        "  row['auto_addm'] = smpl_attr_addm.shape[0]\n",
        "\n",
        "  smpl_attr = smpl.loc[smpl['mcc_code'].isin(mcc_games['mcc_code'])]\n",
        "  smpl_attr_addm = smpl_attr.loc[smpl_attr['amount'] > 0]\n",
        "  smpl_attr_spend = smpl_attr.loc[smpl_attr['amount'] < 0]\n",
        "  row['games_spend'] = smpl_attr_spend.shape[0]\n",
        "  row['games_addm'] = smpl_attr_addm.shape[0]\n",
        "\n",
        "  smpl_attr = smpl.loc[smpl['mcc_code'].isin(mcc_code['mcc_code'])]\n",
        "  smpl_attr_addm = smpl_attr.loc[smpl_attr['amount'] > 0]\n",
        "  smpl_attr_spend = smpl_attr.loc[smpl_attr['amount'] < 0]\n",
        "  row['code_spend'] = smpl_attr_spend.shape[0]\n",
        "  row['code_addm'] = smpl_attr_addm.shape[0]\n",
        "\n",
        "  smpl_attr = smpl.loc[smpl['mcc_code'].isin(mcc_future['mcc_code'])]\n",
        "  smpl_attr_addm = smpl_attr.loc[smpl_attr['amount'] > 0]\n",
        "  smpl_attr_spend = smpl_attr.loc[smpl_attr['amount'] < 0]\n",
        "  row['future_spend'] = smpl_attr_spend.shape[0]\n",
        "  row['future_addm'] = smpl_attr_addm.shape[0]\n",
        "\n",
        "  row = row.reset_index(drop=True)\n",
        "  if (row.iloc[0]['clothes_spend'] != 0) or (row.iloc[0]['clothes_addm'] != 0) or (row.iloc[0]['papers_spend'] != 0) or (row.iloc[0]['papers_addm'] != 0) or (row.iloc[0]['edu_spend'] != 0) or (row.iloc[0]['edu_addm'] != 0) or (row.iloc[0]['auto_spend'] != 0) or (row.iloc[0]['auto_addm'] != 0) or (row.iloc[0]['games_spend'] != 0) or (row.iloc[0]['games_addm'] != 0) or (row.iloc[0]['code_spend'] != 0) or (row.iloc[0]['code_addm'] != 0) or (row.iloc[0]['future_spend'] != 0) or (row.iloc[0]['future_addm'] != 0):\n",
        "    df.loc[df['id'] == customer] = row\n",
        "    table = table.append(row)\n",
        "\n",
        "  #df.loc[df['id'] == customer] = row \n"
      ],
      "execution_count": null,
      "outputs": []
    },
    {
      "cell_type": "code",
      "metadata": {
        "colab": {
          "base_uri": "https://localhost:8080/",
          "height": 202
        },
        "id": "Y5q_jh1EaoM5",
        "outputId": "c8cf251a-8bc3-4608-8de3-69312150155e"
      },
      "source": [
        "del table['id']\n",
        "df1 = table.drop(labels='gender', axis=1)\n",
        "table = table.reset_index(drop=True)\n",
        "from sklearn import preprocessing\n",
        "import pandas as pd\n",
        "d = preprocessing.normalize(df1, axis = 0)\n",
        "scaled_df = pd.DataFrame(d, columns=df1.columns)\n",
        "scaled_df['gender'] = table['gender']\n",
        "scaled_df.head()"
      ],
      "execution_count": null,
      "outputs": [
        {
          "output_type": "execute_result",
          "data": {
            "text/html": [
              "<div>\n",
              "<style scoped>\n",
              "    .dataframe tbody tr th:only-of-type {\n",
              "        vertical-align: middle;\n",
              "    }\n",
              "\n",
              "    .dataframe tbody tr th {\n",
              "        vertical-align: top;\n",
              "    }\n",
              "\n",
              "    .dataframe thead th {\n",
              "        text-align: right;\n",
              "    }\n",
              "</style>\n",
              "<table border=\"1\" class=\"dataframe\">\n",
              "  <thead>\n",
              "    <tr style=\"text-align: right;\">\n",
              "      <th></th>\n",
              "      <th>clothes_spend</th>\n",
              "      <th>clothes_addm</th>\n",
              "      <th>papers_spend</th>\n",
              "      <th>papers_addm</th>\n",
              "      <th>edu_spend</th>\n",
              "      <th>edu_addm</th>\n",
              "      <th>auto_spend</th>\n",
              "      <th>auto_addm</th>\n",
              "      <th>games_spend</th>\n",
              "      <th>games_addm</th>\n",
              "      <th>code_spend</th>\n",
              "      <th>code_addm</th>\n",
              "      <th>future_spend</th>\n",
              "      <th>future_addm</th>\n",
              "      <th>gender</th>\n",
              "    </tr>\n",
              "  </thead>\n",
              "  <tbody>\n",
              "    <tr>\n",
              "      <th>0</th>\n",
              "      <td>0.013214</td>\n",
              "      <td>0.0</td>\n",
              "      <td>0.0</td>\n",
              "      <td>0.0</td>\n",
              "      <td>0.0</td>\n",
              "      <td>0.0</td>\n",
              "      <td>0.0</td>\n",
              "      <td>0.0</td>\n",
              "      <td>0.0</td>\n",
              "      <td>0.0</td>\n",
              "      <td>0.0</td>\n",
              "      <td>0.0</td>\n",
              "      <td>0.00000</td>\n",
              "      <td>0.0</td>\n",
              "      <td>1</td>\n",
              "    </tr>\n",
              "    <tr>\n",
              "      <th>1</th>\n",
              "      <td>0.026427</td>\n",
              "      <td>0.0</td>\n",
              "      <td>0.0</td>\n",
              "      <td>0.0</td>\n",
              "      <td>0.0</td>\n",
              "      <td>0.0</td>\n",
              "      <td>0.0</td>\n",
              "      <td>0.0</td>\n",
              "      <td>0.0</td>\n",
              "      <td>0.0</td>\n",
              "      <td>0.0</td>\n",
              "      <td>0.0</td>\n",
              "      <td>0.26968</td>\n",
              "      <td>0.0</td>\n",
              "      <td>0</td>\n",
              "    </tr>\n",
              "    <tr>\n",
              "      <th>2</th>\n",
              "      <td>0.015856</td>\n",
              "      <td>0.0</td>\n",
              "      <td>0.0</td>\n",
              "      <td>0.0</td>\n",
              "      <td>0.0</td>\n",
              "      <td>0.0</td>\n",
              "      <td>0.0</td>\n",
              "      <td>0.0</td>\n",
              "      <td>0.0</td>\n",
              "      <td>0.0</td>\n",
              "      <td>0.0</td>\n",
              "      <td>0.0</td>\n",
              "      <td>0.00000</td>\n",
              "      <td>0.0</td>\n",
              "      <td>0</td>\n",
              "    </tr>\n",
              "    <tr>\n",
              "      <th>3</th>\n",
              "      <td>0.031713</td>\n",
              "      <td>0.0</td>\n",
              "      <td>0.0</td>\n",
              "      <td>0.0</td>\n",
              "      <td>0.0</td>\n",
              "      <td>0.0</td>\n",
              "      <td>0.0</td>\n",
              "      <td>0.0</td>\n",
              "      <td>0.0</td>\n",
              "      <td>0.0</td>\n",
              "      <td>0.0</td>\n",
              "      <td>0.0</td>\n",
              "      <td>0.00000</td>\n",
              "      <td>0.0</td>\n",
              "      <td>0</td>\n",
              "    </tr>\n",
              "    <tr>\n",
              "      <th>4</th>\n",
              "      <td>0.010571</td>\n",
              "      <td>0.0</td>\n",
              "      <td>0.0</td>\n",
              "      <td>0.0</td>\n",
              "      <td>0.0</td>\n",
              "      <td>0.0</td>\n",
              "      <td>0.0</td>\n",
              "      <td>0.0</td>\n",
              "      <td>0.0</td>\n",
              "      <td>0.0</td>\n",
              "      <td>0.0</td>\n",
              "      <td>0.0</td>\n",
              "      <td>0.00000</td>\n",
              "      <td>0.0</td>\n",
              "      <td>1</td>\n",
              "    </tr>\n",
              "  </tbody>\n",
              "</table>\n",
              "</div>"
            ],
            "text/plain": [
              "   clothes_spend  clothes_addm  papers_spend  ...  future_spend  future_addm  gender\n",
              "0       0.013214           0.0           0.0  ...       0.00000          0.0       1\n",
              "1       0.026427           0.0           0.0  ...       0.26968          0.0       0\n",
              "2       0.015856           0.0           0.0  ...       0.00000          0.0       0\n",
              "3       0.031713           0.0           0.0  ...       0.00000          0.0       0\n",
              "4       0.010571           0.0           0.0  ...       0.00000          0.0       1\n",
              "\n",
              "[5 rows x 15 columns]"
            ]
          },
          "metadata": {
            "tags": []
          },
          "execution_count": 16
        }
      ]
    },
    {
      "cell_type": "markdown",
      "metadata": {
        "id": "hiXRvXuACblp"
      },
      "source": [
        "# Задание 2"
      ]
    },
    {
      "cell_type": "markdown",
      "metadata": {
        "id": "RE1BmT7dCetf"
      },
      "source": [
        "Модель - многослойная нейронная сеть с двумя скрытыми слоями и с dropout. Количество нейронов в каждом слое выбираете самостоятельно.\r\n",
        "Функции активации, метод оптимизации, скорость обучения, вероятность dropout - выбираете самостоятельно\r\n",
        "\r\n",
        "Модель нужно строить с помощью keras или torch\r\n",
        "\r\n",
        "Нужно отдельно перечислить все гиперпараметры и их значения вот в таком формате (значения приведены для примера, у вас могут быть другие):\r\n",
        "\r\n",
        "* количество эпох: 5\r\n",
        "* скорость обучения: 0.01\r\n",
        "* функция активация: ReLU\r\n",
        "* функция потерь: CrossEntropyLoss\r\n",
        "* оптимизатор: SGD\r\n",
        "\r\n",
        "\r\n",
        "Настроить параметры модели."
      ]
    },
    {
      "cell_type": "code",
      "metadata": {
        "colab": {
          "base_uri": "https://localhost:8080/",
          "height": 202
        },
        "id": "aESpS8p4hd_8",
        "outputId": "222b048a-e8fd-420c-a7ec-adc866d54695"
      },
      "source": [
        "from sklearn.model_selection import train_test_split\n",
        "X_train, X_test, y_train, y_test = train_test_split(scaled_df.loc[:,'clothes_spend':'future_addm'], scaled_df['gender'], test_size=0.7)\n",
        "X_train.head()"
      ],
      "execution_count": null,
      "outputs": [
        {
          "output_type": "execute_result",
          "data": {
            "text/html": [
              "<div>\n",
              "<style scoped>\n",
              "    .dataframe tbody tr th:only-of-type {\n",
              "        vertical-align: middle;\n",
              "    }\n",
              "\n",
              "    .dataframe tbody tr th {\n",
              "        vertical-align: top;\n",
              "    }\n",
              "\n",
              "    .dataframe thead th {\n",
              "        text-align: right;\n",
              "    }\n",
              "</style>\n",
              "<table border=\"1\" class=\"dataframe\">\n",
              "  <thead>\n",
              "    <tr style=\"text-align: right;\">\n",
              "      <th></th>\n",
              "      <th>clothes_spend</th>\n",
              "      <th>clothes_addm</th>\n",
              "      <th>papers_spend</th>\n",
              "      <th>papers_addm</th>\n",
              "      <th>edu_spend</th>\n",
              "      <th>edu_addm</th>\n",
              "      <th>auto_spend</th>\n",
              "      <th>auto_addm</th>\n",
              "      <th>games_spend</th>\n",
              "      <th>games_addm</th>\n",
              "      <th>code_spend</th>\n",
              "      <th>code_addm</th>\n",
              "      <th>future_spend</th>\n",
              "      <th>future_addm</th>\n",
              "    </tr>\n",
              "  </thead>\n",
              "  <tbody>\n",
              "    <tr>\n",
              "      <th>512</th>\n",
              "      <td>0.013214</td>\n",
              "      <td>0.0</td>\n",
              "      <td>0.0</td>\n",
              "      <td>0.0</td>\n",
              "      <td>0.0</td>\n",
              "      <td>0.0</td>\n",
              "      <td>0.0</td>\n",
              "      <td>0.0</td>\n",
              "      <td>0.0</td>\n",
              "      <td>0.0</td>\n",
              "      <td>0.0</td>\n",
              "      <td>0.0</td>\n",
              "      <td>0.0</td>\n",
              "      <td>0.0</td>\n",
              "    </tr>\n",
              "    <tr>\n",
              "      <th>495</th>\n",
              "      <td>0.002643</td>\n",
              "      <td>0.0</td>\n",
              "      <td>0.0</td>\n",
              "      <td>0.0</td>\n",
              "      <td>0.0</td>\n",
              "      <td>0.0</td>\n",
              "      <td>0.0</td>\n",
              "      <td>0.0</td>\n",
              "      <td>0.0</td>\n",
              "      <td>0.0</td>\n",
              "      <td>0.0</td>\n",
              "      <td>0.0</td>\n",
              "      <td>0.0</td>\n",
              "      <td>0.0</td>\n",
              "    </tr>\n",
              "    <tr>\n",
              "      <th>9</th>\n",
              "      <td>0.013214</td>\n",
              "      <td>0.0</td>\n",
              "      <td>0.0</td>\n",
              "      <td>0.0</td>\n",
              "      <td>0.0</td>\n",
              "      <td>0.0</td>\n",
              "      <td>0.0</td>\n",
              "      <td>0.0</td>\n",
              "      <td>0.0</td>\n",
              "      <td>0.0</td>\n",
              "      <td>0.0</td>\n",
              "      <td>0.0</td>\n",
              "      <td>0.0</td>\n",
              "      <td>0.0</td>\n",
              "    </tr>\n",
              "    <tr>\n",
              "      <th>421</th>\n",
              "      <td>0.007928</td>\n",
              "      <td>0.0</td>\n",
              "      <td>0.0</td>\n",
              "      <td>0.0</td>\n",
              "      <td>0.0</td>\n",
              "      <td>0.0</td>\n",
              "      <td>0.0</td>\n",
              "      <td>0.0</td>\n",
              "      <td>0.0</td>\n",
              "      <td>0.0</td>\n",
              "      <td>0.0</td>\n",
              "      <td>0.0</td>\n",
              "      <td>0.0</td>\n",
              "      <td>0.0</td>\n",
              "    </tr>\n",
              "    <tr>\n",
              "      <th>611</th>\n",
              "      <td>0.002643</td>\n",
              "      <td>0.0</td>\n",
              "      <td>0.0</td>\n",
              "      <td>0.0</td>\n",
              "      <td>0.0</td>\n",
              "      <td>0.0</td>\n",
              "      <td>0.0</td>\n",
              "      <td>0.0</td>\n",
              "      <td>0.0</td>\n",
              "      <td>0.0</td>\n",
              "      <td>0.0</td>\n",
              "      <td>0.0</td>\n",
              "      <td>0.0</td>\n",
              "      <td>0.0</td>\n",
              "    </tr>\n",
              "  </tbody>\n",
              "</table>\n",
              "</div>"
            ],
            "text/plain": [
              "     clothes_spend  clothes_addm  ...  future_spend  future_addm\n",
              "512       0.013214           0.0  ...           0.0          0.0\n",
              "495       0.002643           0.0  ...           0.0          0.0\n",
              "9         0.013214           0.0  ...           0.0          0.0\n",
              "421       0.007928           0.0  ...           0.0          0.0\n",
              "611       0.002643           0.0  ...           0.0          0.0\n",
              "\n",
              "[5 rows x 14 columns]"
            ]
          },
          "metadata": {
            "tags": []
          },
          "execution_count": 29
        }
      ]
    },
    {
      "cell_type": "code",
      "metadata": {
        "id": "mINoeIjL6H9J"
      },
      "source": [
        "y_test\n",
        "y_test = y_test.astype(np.float)\n",
        "y_train = y_train.astype(np.float)"
      ],
      "execution_count": null,
      "outputs": []
    },
    {
      "cell_type": "code",
      "metadata": {
        "id": "4olINr59v3hy"
      },
      "source": [
        "import torch\n",
        "import torchvision\n",
        "Input = 14\n",
        "Output = 2\n",
        "mlp = torch.nn.Sequential(\n",
        "    torch.nn.Linear(Input, 15),\n",
        "    torch.nn.ReLU(),\n",
        "    torch.nn.Linear(15, 48),\n",
        "    torch.nn.ReLU(),\n",
        "    torch.nn.Dropout(0.25),\n",
        "    torch.nn.Linear(48, 12),\n",
        "    torch.nn.ReLU(),\n",
        "    torch.nn.Dropout(0.75),\n",
        "    torch.nn.Linear(12, Output),\n",
        "    torch.nn.ReLU(),\n",
        "    torch.nn.LogSoftmax(dim=1)\n",
        ").cuda()"
      ],
      "execution_count": null,
      "outputs": []
    },
    {
      "cell_type": "code",
      "metadata": {
        "id": "JByY4IhkxZhI"
      },
      "source": [
        "learning_rate = 0.01\n",
        "loss_fn = torch.nn.CrossEntropyLoss()\n",
        "optimizer = torch.optim.SGD(mlp.parameters(), lr = learning_rate)\n",
        "n_epochs = 5"
      ],
      "execution_count": null,
      "outputs": []
    },
    {
      "cell_type": "code",
      "metadata": {
        "colab": {
          "base_uri": "https://localhost:8080/"
        },
        "id": "01ukyC8Xxt3Q",
        "outputId": "b24f40b0-d4d2-4fe0-e6f6-1a110c7419b7"
      },
      "source": [
        "for epochs in range(n_epochs):\n",
        "  loss_epoch = 0\n",
        "  accuracy = 0\n",
        "  data = torch.FloatTensor(X_train.values)\n",
        "  target = torch.LongTensor(y_train.values)\n",
        "  data, target = torch.autograd.Variable(data).cuda(), torch.autograd.Variable(target).cuda()\n",
        "  data = data.view(-1, Input)\n",
        "  y_pred = mlp(data)\n",
        "  loss=loss_fn(y_pred, target)\n",
        "  optimizer.zero_grad()\n",
        "  loss.backward()\n",
        "  optimizer.step()\n",
        "  loss_epoch += loss\n",
        "  accuracy_epoch = 0\n",
        "  data = torch.FloatTensor(X_test.values)\n",
        "  target = torch.LongTensor(y_test.values)\n",
        "  data, target = torch.autograd.Variable(data).cuda(), torch.autograd.Variable(target).cuda()\n",
        "  data = data.view(-1, Input)\n",
        "  y_pred = mlp(data).cuda()\n",
        "  predicted = y_pred.max(1)[1]\n",
        "  c = (predicted == target)\n",
        "  accuracy_epoch += c.float().sum() / target.shape[0]\n",
        "  print('Epoch %d, Loss: %.6f, Accuracy: %.3f %%' % (epochs+1, loss_epoch, 100*accuracy_epoch))\n"
      ],
      "execution_count": null,
      "outputs": [
        {
          "output_type": "stream",
          "text": [
            "Epoch 1, Loss: 0.692149, Accuracy: 59.825 %\n",
            "Epoch 2, Loss: 0.691618, Accuracy: 59.825 %\n",
            "Epoch 3, Loss: 0.688881, Accuracy: 59.825 %\n",
            "Epoch 4, Loss: 0.689845, Accuracy: 59.825 %\n",
            "Epoch 5, Loss: 0.691791, Accuracy: 59.825 %\n"
          ],
          "name": "stdout"
        }
      ]
    },
    {
      "cell_type": "markdown",
      "metadata": {
        "id": "vjOJsBFsDOll"
      },
      "source": [
        "# Задание 3"
      ]
    },
    {
      "cell_type": "markdown",
      "metadata": {
        "id": "FXHBaQF1CnuI"
      },
      "source": [
        "\r\n",
        "Проверить качество модели не менее чем на трёх разных метриках. Вывести эти значения."
      ]
    },
    {
      "cell_type": "markdown",
      "metadata": {
        "id": "jnuaWWNID2O8"
      },
      "source": [
        "После завершения контрольной работы, дайте ссылку на colab в отдельном followup в своей теме на Piazza. Дайте разрешение на его просмотр.\r\n",
        "\r\n",
        "Не забудьте запустить код в последней ячейке для контроля времени выполнения."
      ]
    },
    {
      "cell_type": "code",
      "metadata": {
        "id": "BAi-MHDa7yLv"
      },
      "source": [
        ""
      ],
      "execution_count": null,
      "outputs": []
    },
    {
      "cell_type": "code",
      "metadata": {
        "id": "fJ1wmMO4D8jN",
        "colab": {
          "base_uri": "https://localhost:8080/"
        },
        "outputId": "bd4c936f-9aee-4c57-ba9f-d707b7fc490a"
      },
      "source": [
        "current_datetime = datetime.now()\r\n",
        "print(current_datetime)"
      ],
      "execution_count": null,
      "outputs": [
        {
          "output_type": "stream",
          "text": [
            "2020-12-21 15:14:26.214918\n"
          ],
          "name": "stdout"
        }
      ]
    }
  ]
}