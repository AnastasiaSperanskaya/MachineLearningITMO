{
  "nbformat": 4,
  "nbformat_minor": 0,
  "metadata": {
    "kernelspec": {
      "display_name": "Python 3",
      "language": "python",
      "name": "python3"
    },
    "language_info": {
      "codemirror_mode": {
        "name": "ipython",
        "version": 3
      },
      "file_extension": ".py",
      "mimetype": "text/x-python",
      "name": "python",
      "nbconvert_exporter": "python",
      "pygments_lexer": "ipython3",
      "version": "3.6.5"
    },
    "toc": {
      "base_numbering": 1,
      "nav_menu": {},
      "number_sections": true,
      "sideBar": true,
      "skip_h1_title": false,
      "title_cell": "Table of Contents",
      "title_sidebar": "Contents",
      "toc_cell": false,
      "toc_position": {},
      "toc_section_display": true,
      "toc_window_display": false
    },
    "colab": {
      "name": "midtermTest1",
      "provenance": [],
      "collapsed_sections": [],
      "include_colab_link": true
    }
  },
  "cells": [
    {
      "cell_type": "markdown",
      "metadata": {
        "id": "view-in-github",
        "colab_type": "text"
      },
      "source": [
        "<a href=\"https://colab.research.google.com/github/AnastasiaSperanskaya/MachineLearningITMO/blob/main/midtermTests/midtermTest1.ipynb\" target=\"_parent\"><img src=\"https://colab.research.google.com/assets/colab-badge.svg\" alt=\"Open In Colab\"/></a>"
      ]
    },
    {
      "cell_type": "markdown",
      "metadata": {
        "id": "LYKqDli0Lqas"
      },
      "source": [
        "# Рубежная контрольная работа\n",
        "\n",
        "Эту работу выполнять не обязательно. Баллы набранные за работу просуммируются с баллами, которые будут набраны за контрольную работу 2 и выставлены как оценка за экзамен \"автоматом\". "
      ]
    },
    {
      "cell_type": "markdown",
      "metadata": {
        "id": "Cdt8kOfu4K3x"
      },
      "source": [
        "Сделайте копию ноутбука\n",
        "\n",
        "Присвойте переменной `v` значение свой табельный номер ИСУ, это нужно для определения вашего варианта. Запустите код в следующей ячейке."
      ]
    },
    {
      "cell_type": "code",
      "metadata": {
        "id": "38Ryn8pjvYqb",
        "colab": {
          "base_uri": "https://localhost:8080/",
          "height": 34
        },
        "outputId": "8b51feb6-de38-4c94-b5bb-44371dd48df0"
      },
      "source": [
        "from datetime import datetime\n",
        "current_datetime = datetime.now()\n",
        "print(current_datetime)\n",
        "v = 264248"
      ],
      "execution_count": null,
      "outputs": [
        {
          "output_type": "stream",
          "text": [
            "2020-10-28 10:42:09.990390\n"
          ],
          "name": "stdout"
        }
      ]
    },
    {
      "cell_type": "markdown",
      "metadata": {
        "id": "OFP_i1F1Lqay"
      },
      "source": [
        "## Задание 1\n",
        "\n",
        "В задании требуется использовать свою реализацию kNN. В обоих задания в качестве расстояния между объектами используйте евклидово расстояние.\n",
        "\n",
        "Потребуется протестировать эту реализацию на наборе данных breast_cancer:\n",
        "\n",
        "https://scikit-learn.org/stable/modules/generated/sklearn.datasets.load_breast_cancer.html"
      ]
    },
    {
      "cell_type": "markdown",
      "metadata": {
        "id": "F57T22yav-gp"
      },
      "source": [
        "Для выбора варианта, запустите код в следующей ячейке\n",
        "\n"
      ]
    },
    {
      "cell_type": "code",
      "metadata": {
        "id": "zFcuNXzcwMbH",
        "colab": {
          "base_uri": "https://localhost:8080/",
          "height": 51
        },
        "outputId": "c8c64a41-07d6-4181-b306-72310359aace"
      },
      "source": [
        "if (int(str(v)[2]) % 2) == 0:\n",
        "  print ('1.1 Настроить гиперпараметр k, для оценки качества использовать метрику precision = TP / (TP + FP)')\n",
        "else:\n",
        "  print ('1.1 Настроить гиперпараметр k, для оценки качества использовать метрику recall = TP / (TP + FN)')\n",
        "\n",
        "if (int(str(v)[3]) % 2) == 0:\n",
        "  print ('1.2 Построить график зависимости метрики качества на обучающей выборке от количества соседей')\n",
        "else: \n",
        "  print ('1.2 Построить график зависимости метрики качества на контрольной выборке от количества соседей')"
      ],
      "execution_count": null,
      "outputs": [
        {
          "output_type": "stream",
          "text": [
            "1.1 Настроить гиперпараметр k, для оценки качества использовать метрику precision = TP / (TP + FP)\n",
            "1.2 Построить график зависимости метрики качества на обучающей выборке от количества соседей\n"
          ],
          "name": "stdout"
        }
      ]
    },
    {
      "cell_type": "markdown",
      "metadata": {
        "id": "NT0TLhqxLqa7"
      },
      "source": [
        "Для корректной работы с графиками в python требуется загрузить специальную библиотеку\n",
        "**matplotlib**, программную библиотеку на языке python для визуализации данных двумерной и трехмерной графикой.\n",
        "\n",
        "Графики используются для облегчения интерпретации полученных результатов, а также в качестве иллюстраций в презентациях и отчетах. "
      ]
    },
    {
      "cell_type": "code",
      "metadata": {
        "id": "gHGUZu8rLqa8"
      },
      "source": [
        "from sklearn.datasets import load_breast_cancer\n",
        "import numpy as np\n",
        "import pandas as pd\n",
        "from matplotlib import pyplot as plt\n",
        "from sklearn.model_selection import train_test_split\n",
        "from collections import Counter\n",
        "data = load_breast_cancer()\n",
        "X = pd.DataFrame(data['data'], columns=data['feature_names'])\n",
        "y = data['target']\n",
        "\n",
        "X_train, X_test, y_train, y_test = train_test_split(X, y, train_size=0.7)\n",
        "\n",
        "X_train = X_train.values\n",
        "X_test = X_test.values"
      ],
      "execution_count": null,
      "outputs": []
    },
    {
      "cell_type": "code",
      "metadata": {
        "id": "T2J7dRMPsqMB"
      },
      "source": [
        "class KNearestNeighbours:\n",
        "  def __init__(self):\n",
        "    pass\n",
        "\n",
        "  def fit(self, X, y):\n",
        "    self.X_train = X\n",
        "    self.y_train = y\n",
        "\n",
        "  def predict(self, X, k=1):\n",
        "    dists = self.compute_distances(X)\n",
        "    return self.predict_labels(dists, k=k)\n",
        "\n",
        "  def compute_distances(self, X):\n",
        "    num_test = X.shape[0]\n",
        "    num_train = self.X_train.shape[0]\n",
        "    dists = np.zeros((num_test, num_train))\n",
        "    for i in range(num_test):\n",
        "      for j in range(num_train):\n",
        "        dists[i, j] = np.sum((X[i] - self.X_train[j]) ** 2) ** 0.5\n",
        "    return dists\n",
        "\n",
        "  def predict_labels(self, dists, k=1):\n",
        "    num_test = dists.shape[0]\n",
        "    y_pred = np.zeros(num_test)\n",
        "    for i in range(num_test):\n",
        "      indices = np.argsort(dists[i])[:k]\n",
        "      labels = self.y_train[indices]\n",
        "      y_pred[i] = Counter(labels).most_common(1)[0][0]\n",
        "    return y_pred\n"
      ],
      "execution_count": null,
      "outputs": []
    },
    {
      "cell_type": "code",
      "metadata": {
        "id": "ojMxNKUPuHcA"
      },
      "source": [
        "knn = KNearestNeighbours()\n",
        "knn.fit(X_train, y_train)\n",
        "y_pred_1 = knn.predict(X_test,1)"
      ],
      "execution_count": null,
      "outputs": []
    },
    {
      "cell_type": "code",
      "metadata": {
        "id": "D5LwR7Ag7O8O"
      },
      "source": [
        "def precision(y_pred, y_test):\n",
        "  tp = 0\n",
        "  for i in range(y_pred.shape[0]):\n",
        "    if y_pred[i] == y_test[i]:\n",
        "      tp=tp+1\n",
        "  fp = y_pred.shape[0] - tp\n",
        "  return tp/(fp+tp) "
      ],
      "execution_count": null,
      "outputs": []
    },
    {
      "cell_type": "code",
      "metadata": {
        "id": "N1Jr5sNw9Hhf",
        "colab": {
          "base_uri": "https://localhost:8080/",
          "height": 51
        },
        "outputId": "d2470920-c2ea-45a5-a08b-5546a60a58c7"
      },
      "source": [
        "#1.1 Настроить гиперпараметр k, для оценки качества использовать метрику precision = TP / (TP + FP)\n",
        "neighbours_examined_amount = 10 #верхнее значение для настраимого гиперпараметра\n",
        "max = precision(y_pred_1, y_test)\n",
        "k = 1\n",
        "for j in range(1,neighbours_examined_amount+1):\n",
        "  y_pred = knn.predict(X_test, j)\n",
        "  p = precision(y_pred, y_test)\n",
        "  if precision(y_pred, y_test) > max:\n",
        "    max = precision(y_pred, y_test)\n",
        "    k = j\n",
        "\n",
        "print(k, \"the best hyperparameter from\", neighbours_examined_amount, \"values\")\n",
        "print(max, \"precision value for\", k)"
      ],
      "execution_count": null,
      "outputs": [
        {
          "output_type": "stream",
          "text": [
            "10 the best hyperparameter from 10 values\n",
            "0.9532163742690059 precision value for 10\n"
          ],
          "name": "stdout"
        }
      ]
    },
    {
      "cell_type": "code",
      "metadata": {
        "id": "YHEnekIaEmbY",
        "colab": {
          "base_uri": "https://localhost:8080/",
          "height": 304
        },
        "outputId": "e3aa4b6e-84c9-483f-f7be-8d57b0e1ce02"
      },
      "source": [
        "#1.2 Построить график зависимости метрики качества на обучающей выборке от количества соседей\n",
        "import matplotlib\n",
        "import matplotlib.pyplot as plt\n",
        "\n",
        "x = np.array([])\n",
        "y = np.array([])\n",
        "for j in range(1,15):\n",
        "  y_pred = knn.predict(X_test, j)\n",
        "  p = precision(y_pred, y_test)\n",
        "  y = np.append(y, p)\n",
        "  x = np.append(x, j)\n",
        "\n",
        "plt.scatter(x, y)\n",
        "plt.ylim(0.8, 1)\n",
        "plt.ylabel(\"precision metric\", fontsize=14)\n",
        "plt.xlabel(\"k : neighbours amount\", fontsize=14)"
      ],
      "execution_count": null,
      "outputs": [
        {
          "output_type": "execute_result",
          "data": {
            "text/plain": [
              "Text(0.5, 0, 'k : neighbours amount')"
            ]
          },
          "metadata": {
            "tags": []
          },
          "execution_count": 119
        },
        {
          "output_type": "display_data",
          "data": {
            "image/png": "[encoded data removed]",
            "text/plain": [
              "<Figure size 432x288 with 1 Axes>"
            ]
          },
          "metadata": {
            "tags": [],
            "needs_background": "light"
          }
        }
      ]
    },
    {
      "cell_type": "markdown",
      "metadata": {
        "id": "Mz4rsFhALqbJ"
      },
      "source": [
        "# 2. Обработать данные перед обучением модели"
      ]
    },
    {
      "cell_type": "markdown",
      "metadata": {
        "id": "gOM9Kj8pLqbS"
      },
      "source": [
        "Во втором задании в качестве исходных данных используется словарь кинокритиков и выставленных ими оценок"
      ]
    },
    {
      "cell_type": "code",
      "metadata": {
        "id": "ENkh6Gr98Pit"
      },
      "source": [
        "critics={'Lisa Rose': {'Lady in the Water': 2.5, 'Snakes on a Plane': 3.5,\n",
        " 'Just My Luck': 3.0, 'Superman Returns': 3.5, 'You, Me and Dupree': 2.5, \n",
        " 'The Night Listener': 3.0},\n",
        "'Gene Seymour': {'Lady in the Water': 3.0, 'Snakes on a Plane': 3.5, \n",
        " 'Just My Luck': 1.5, 'Superman Returns': 5.0, 'The Night Listener': 3.0, \n",
        " 'You, Me and Dupree': 3.5}, \n",
        "'Michael Phillips': {'Lady in the Water': 2.5, 'Snakes on a Plane': 3.0,\n",
        " 'Superman Returns': 3.5, 'The Night Listener': 4.0},\n",
        "'Claudia Puig': {'Snakes on a Plane': 3.5, 'Just My Luck': 3.0,\n",
        " 'The Night Listener': 4.5, 'Superman Returns': 4.0, \n",
        " 'You, Me and Dupree': 2.5},\n",
        "'Mick LaSalle': {'Lady in the Water': 3.0, 'Snakes on a Plane': 4.0, \n",
        " 'Just My Luck': 2.0, 'Superman Returns': 3.0, 'The Night Listener': 3.0,\n",
        " 'You, Me and Dupree': 2.0}, \n",
        "'Jack Matthews': {'Lady in the Water': 3.0, 'Snakes on a Plane': 4.0,\n",
        " 'The Night Listener': 3.0, 'Superman Returns': 5.0, 'You, Me and Dupree': 3.5},\n",
        "'Toby': {'Snakes on a Plane':4.5,'You, Me and Dupree':1.0,'Superman Returns':4.0}}"
      ],
      "execution_count": null,
      "outputs": []
    },
    {
      "cell_type": "markdown",
      "metadata": {
        "id": "MVfEyvFj019l"
      },
      "source": [
        "По этому словарю нужно сделать Dataframe в pandas. Строки это критики, столбцы - названия фильмов. На пересечении поставленные оценки. При отсуствии оценки у критика за фильм в датафрейме нужно поставить 0."
      ]
    },
    {
      "cell_type": "code",
      "metadata": {
        "id": "MUHAUT9FsSEl",
        "colab": {
          "base_uri": "https://localhost:8080/",
          "height": 266
        },
        "outputId": "4f7f0cb2-1724-48f6-d2e0-afbb179a805b"
      },
      "source": [
        "import pandas as pd\n",
        "data = [\n",
        "  ['Lisa Rose',2.5,3.5,3.0,3.5,2.5,3.0],\n",
        "  ['Gene Seymour',3.0,3.5,1.5,5.0,3.5,3.0],\n",
        "  ['Michael Phillips',2.5,3.0,0,3.5,0,4.0], \n",
        "  ['Claudia Puig',0,3.5,3.0,4.0,2.5,0],\n",
        "  ['Mick LaSalle',2.5,4.0,2.0,3.0,2.0,3.0],\n",
        "  ['Jack Matthews',3.0,4.0,0,5.0,3.5,3.0],\n",
        "  ['Toby',0,4.5,0,4.0,1.0,0],\n",
        "    ]\n",
        "data = pd.DataFrame(data, columns = ['name','Lady in the Water','Snakes on a Plane','Just My Luck','Superman Returns','You, Me and Dupree','The Night Listener'])\n",
        "data"
      ],
      "execution_count": null,
      "outputs": [
        {
          "output_type": "execute_result",
          "data": {
            "text/html": [
              "<div>\n",
              "<style scoped>\n",
              "    .dataframe tbody tr th:only-of-type {\n",
              "        vertical-align: middle;\n",
              "    }\n",
              "\n",
              "    .dataframe tbody tr th {\n",
              "        vertical-align: top;\n",
              "    }\n",
              "\n",
              "    .dataframe thead th {\n",
              "        text-align: right;\n",
              "    }\n",
              "</style>\n",
              "<table border=\"1\" class=\"dataframe\">\n",
              "  <thead>\n",
              "    <tr style=\"text-align: right;\">\n",
              "      <th></th>\n",
              "      <th>name</th>\n",
              "      <th>Lady in the Water</th>\n",
              "      <th>Snakes on a Plane</th>\n",
              "      <th>Just My Luck</th>\n",
              "      <th>Superman Returns</th>\n",
              "      <th>You, Me and Dupree</th>\n",
              "      <th>The Night Listener</th>\n",
              "    </tr>\n",
              "  </thead>\n",
              "  <tbody>\n",
              "    <tr>\n",
              "      <th>0</th>\n",
              "      <td>Lisa Rose</td>\n",
              "      <td>2.5</td>\n",
              "      <td>3.5</td>\n",
              "      <td>3.0</td>\n",
              "      <td>3.5</td>\n",
              "      <td>2.5</td>\n",
              "      <td>3.0</td>\n",
              "    </tr>\n",
              "    <tr>\n",
              "      <th>1</th>\n",
              "      <td>Gene Seymour</td>\n",
              "      <td>3.0</td>\n",
              "      <td>3.5</td>\n",
              "      <td>1.5</td>\n",
              "      <td>5.0</td>\n",
              "      <td>3.5</td>\n",
              "      <td>3.0</td>\n",
              "    </tr>\n",
              "    <tr>\n",
              "      <th>2</th>\n",
              "      <td>Michael Phillips</td>\n",
              "      <td>2.5</td>\n",
              "      <td>3.0</td>\n",
              "      <td>0.0</td>\n",
              "      <td>3.5</td>\n",
              "      <td>0.0</td>\n",
              "      <td>4.0</td>\n",
              "    </tr>\n",
              "    <tr>\n",
              "      <th>3</th>\n",
              "      <td>Claudia Puig</td>\n",
              "      <td>0.0</td>\n",
              "      <td>3.5</td>\n",
              "      <td>3.0</td>\n",
              "      <td>4.0</td>\n",
              "      <td>2.5</td>\n",
              "      <td>0.0</td>\n",
              "    </tr>\n",
              "    <tr>\n",
              "      <th>4</th>\n",
              "      <td>Mick LaSalle</td>\n",
              "      <td>2.5</td>\n",
              "      <td>4.0</td>\n",
              "      <td>2.0</td>\n",
              "      <td>3.0</td>\n",
              "      <td>2.0</td>\n",
              "      <td>3.0</td>\n",
              "    </tr>\n",
              "    <tr>\n",
              "      <th>5</th>\n",
              "      <td>Jack Matthews</td>\n",
              "      <td>3.0</td>\n",
              "      <td>4.0</td>\n",
              "      <td>0.0</td>\n",
              "      <td>5.0</td>\n",
              "      <td>3.5</td>\n",
              "      <td>3.0</td>\n",
              "    </tr>\n",
              "    <tr>\n",
              "      <th>6</th>\n",
              "      <td>Toby</td>\n",
              "      <td>0.0</td>\n",
              "      <td>4.5</td>\n",
              "      <td>0.0</td>\n",
              "      <td>4.0</td>\n",
              "      <td>1.0</td>\n",
              "      <td>0.0</td>\n",
              "    </tr>\n",
              "  </tbody>\n",
              "</table>\n",
              "</div>"
            ],
            "text/plain": [
              "               name  Lady in the Water  ...  You, Me and Dupree  The Night Listener\n",
              "0         Lisa Rose                2.5  ...                 2.5                 3.0\n",
              "1      Gene Seymour                3.0  ...                 3.5                 3.0\n",
              "2  Michael Phillips                2.5  ...                 0.0                 4.0\n",
              "3      Claudia Puig                0.0  ...                 2.5                 0.0\n",
              "4      Mick LaSalle                2.5  ...                 2.0                 3.0\n",
              "5     Jack Matthews                3.0  ...                 3.5                 3.0\n",
              "6              Toby                0.0  ...                 1.0                 0.0\n",
              "\n",
              "[7 rows x 7 columns]"
            ]
          },
          "metadata": {
            "tags": []
          },
          "execution_count": 125
        }
      ]
    },
    {
      "cell_type": "markdown",
      "metadata": {
        "id": "xakj7Hul1jMp"
      },
      "source": [
        "Для выбора варианта, запустите код в следующей ячейке"
      ]
    },
    {
      "cell_type": "code",
      "metadata": {
        "id": "fvyYCARr1gLt",
        "colab": {
          "base_uri": "https://localhost:8080/",
          "height": 51
        },
        "outputId": "fbdd77db-4c3b-4bbd-9088-97b67362282b"
      },
      "source": [
        "if (int(str(v)[4]) % 2) == 0:\n",
        "  print ('2.1 Используя модификацию метода kNN сделать предсказание оценок для критика Michael Phillips по фильмам, которые он ещё не видел')\n",
        "else:\n",
        "  print ('2.1 Используя модификацию метода kNN сделать предсказание оценок для фильма Just My Luck по критикам, которые его ещё не видели')\n",
        "\n",
        "if (int(str(v)[5]) % 2) == 0:\n",
        "  print ('2.2 В модификации k не задаётся, задаётся максимальное расстояние до соседа = 3, при этом нужно учитывать вес каждого соседа, чем ближе, тем больше вес')\n",
        "else: \n",
        "  print ('2.2 В модификации k задаётся равной 3, но при этом нужно учитывать вес каждого соседа, чем ближе, тем больше вес')"
      ],
      "execution_count": null,
      "outputs": [
        {
          "output_type": "stream",
          "text": [
            "2.1 Используя модификацию метода kNN сделать предсказание оценок для критика Michael Phillips по фильмам, которые он ещё не видел\n",
            "2.2 В модификации k не задаётся, задаётся максимальное расстояние до соседа = 3, при этом нужно учитывать вес каждого соседа, чем ближе, тем больше вес\n"
          ],
          "name": "stdout"
        }
      ]
    },
    {
      "cell_type": "markdown",
      "metadata": {
        "id": "EHdzuZj-3dsF"
      },
      "source": [
        "Фактически здесь требуется применить модификацию kNN для предсказания действительного числа, как в задаче регресии, а не как в задачи классификации. "
      ]
    },
    {
      "cell_type": "markdown",
      "metadata": {
        "id": "v_oFki5H3_vy"
      },
      "source": [
        "ПОсле завершения контрольной работы, дайте ссылку на ноутбук в отдельном followup в своей теме на Piazza. Дайте разрешение на его просмотр.\n",
        "\n",
        "Не забудьте запустить код в последней ячейке для контроля времени выполнения."
      ]
    },
    {
      "cell_type": "code",
      "metadata": {
        "id": "HncJvMmo35Kv",
        "colab": {
          "base_uri": "https://localhost:8080/",
          "height": 34
        },
        "outputId": "ef69e3ce-f9ea-4e0a-d369-4f5b33dac704"
      },
      "source": [
        "current_datetime = datetime.now()\n",
        "print(current_datetime)"
      ],
      "execution_count": null,
      "outputs": [
        {
          "output_type": "stream",
          "text": [
            "2020-10-28 12:59:49.937870\n"
          ],
          "name": "stdout"
        }
      ]
    }
  ]
}